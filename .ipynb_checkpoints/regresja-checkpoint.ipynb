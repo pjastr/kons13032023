{
 "cells": [
  {
   "cell_type": "code",
   "execution_count": 1,
   "metadata": {
    "collapsed": true
   },
   "outputs": [
    {
     "name": "stdout",
     "output_type": "stream",
     "text": [
      "                            OLS Regression Results                            \n",
      "==============================================================================\n",
      "Dep. Variable:                  sales   R-squared:                       0.897\n",
      "Model:                            OLS   Adj. R-squared:                  0.896\n",
      "Method:                 Least Squares   F-statistic:                     570.3\n",
      "Date:                Mon, 13 Mar 2023   Prob (F-statistic):           1.58e-96\n",
      "Time:                        12:20:53   Log-Likelihood:                -422.65\n",
      "No. Observations:                 200   AIC:                             853.3\n",
      "Df Residuals:                     196   BIC:                             866.5\n",
      "Df Model:                           3                                         \n",
      "Covariance Type:            nonrobust                                         \n",
      "==============================================================================\n",
      "                 coef    std err          t      P>|t|      [0.025      0.975]\n",
      "------------------------------------------------------------------------------\n",
      "Intercept      3.5267      0.374      9.422      0.000       2.789       4.265\n",
      "youtube        0.0458      0.001     32.809      0.000       0.043       0.049\n",
      "facebook       0.1885      0.009     21.893      0.000       0.172       0.206\n",
      "newspaper     -0.0010      0.006     -0.177      0.860      -0.013       0.011\n",
      "==============================================================================\n",
      "Omnibus:                       60.414   Durbin-Watson:                   2.084\n",
      "Prob(Omnibus):                  0.000   Jarque-Bera (JB):              151.241\n",
      "Skew:                          -1.327   Prob(JB):                     1.44e-33\n",
      "Kurtosis:                       6.332   Cond. No.                         545.\n",
      "==============================================================================\n",
      "\n",
      "Notes:\n",
      "[1] Standard Errors assume that the covariance matrix of the errors is correctly specified.\n"
     ]
    }
   ],
   "source": [
    "import pandas as pd\n",
    "import openpyxl\n",
    "from statsmodels.formula.api import ols\n",
    "import numpy as np\n",
    "from scipy.stats import f\n",
    "\n",
    "marketing = pd.read_excel(\"m.xlsx\", index_col=0)\n",
    "mod = ols(formula='sales ~ youtube + facebook + newspaper', data=marketing)\n",
    "res = mod.fit()\n",
    "print(res.summary())"
   ]
  },
  {
   "cell_type": "markdown",
   "metadata": {},
   "source": [
    "Dep. Variable:                  sales\n",
    "To informacja wskazująca, która zmienna jest zależna."
   ]
  },
  {
   "cell_type": "markdown",
   "metadata": {},
   "source": [
    "Method:                 Least Squares\n",
    "Informacja o metodzie - domyślnie metoda najmniejszych kwadratów."
   ]
  },
  {
   "cell_type": "markdown",
   "metadata": {},
   "source": [
    "No. Observations:                 200\n",
    "Liczba obserwacji - w tym kontekście liczba wierszy (bez nagłówka)."
   ]
  },
  {
   "cell_type": "markdown",
   "metadata": {},
   "source": [
    "Df Residuals:                     196\n",
    "Liczba stopni swobody reszt: liczby obserwacji minus liczbę zmiennych niezależnych w modelu (w tym stałej). Innymi słowy, jest to liczba niezależnych obserwacji, które mogą być użyte do oszacowania reszt modelu."
   ]
  },
  {
   "cell_type": "markdown",
   "metadata": {},
   "source": [
    "Df Model:                           3\n",
    "Liczba stopni swobody modelu, czyli liczba zmiennych objaśniających (niezależnych, bez stałej), które zostały uwzględnione w modelu."
   ]
  },
  {
   "cell_type": "markdown",
   "metadata": {},
   "source": [
    "Covariance Type:            nonrobust\n",
    "Typ kowariancji użyty w estymacji macierzy wariancji-kowariancji parametrów modelu. W analizie regresji, estymacja macierzy kowariancji jest istotna, ponieważ pozwala na obliczenie błędów standardowych parametrów regresji, t-statystyk i przedziałów ufności.\n",
    "'nonrobust': standardowa estymacja kowariancji, która nie uwzględnia żadnych specjalnych właściwości danych.\n",
    "'HC0': metoda Hubera-White'a, która jest odporna na heteroskedastyczność i autokorelację reszt.\n",
    "'HC1', 'HC2', 'HC3': różne wersje metody Hubera-White'a, które różnią się wagami reszt wykorzystanymi w estymacji macierzy kowariancji.\n",
    "https://www.statsmodels.org/stable/generated/statsmodels.regression.linear_model.OLSResults.get_robustcov_results.html"
   ]
  },
  {
   "cell_type": "markdown",
   "metadata": {},
   "source": [
    "R-squared:                       0.897\n",
    "Miara dopasowania modelu liniowego do danych i wskazuje, jaka część zmienności zmiennej objaśnianej jest wyjaśniona przez zmienne objaśniające.\n",
    "R-kwadrat przyjmuje wartości od 0 do 1 i interpretuje się go jako procent wariancji zmiennej objaśnianej, która jest wyjaśniona przez model. Wartość R-kwadrat równe 0 oznacza, że model nie tłumaczy żadnej zmienności zmiennej objaśnianej, a wartość R-kwadrat równe 1 oznacza, że model tłumaczy całą zmienność zmiennej objaśnianej.\n",
    "\n",
    "Należy jednak pamiętać, że wysoka wartość R-kwadrat nie zawsze oznacza, że model jest dobry. W szczególności, jeśli model ma wiele zmiennych objaśniających, wysoka wartość R-kwadrat może być wynikiem przeuczenia (overfittingu) modelu. Dlatego, warto zawsze uwzględnić także inne statystyki wyników analizy regresji, takie jak błędy standardowe parametrów, wartości t-statystyk i p-wartości.\n",
    "\n",
    "$$R^2 = 1 - (SSR / SST)$$\n",
    "$$R^2 = (SSM / SST)$$"
   ]
  },
  {
   "cell_type": "code",
   "execution_count": 4,
   "metadata": {},
   "outputs": [
    {
     "name": "stdout",
     "output_type": "stream",
     "text": [
      "0.897210638178954\n",
      "0.8972106381789522\n"
     ]
    }
   ],
   "source": [
    "yh = res.predict() # z modelu\n",
    "y=np.array(marketing.iloc[:,3]) # dane do uczenia\n",
    "ym=np.mean(y)\n",
    "ssm=np.sum((yh-ym)**2)\n",
    "sst=np.sum((y-ym)**2)\n",
    "r2=ssm/sst\n",
    "print(r2)\n",
    "print(res.rsquared)"
   ]
  },
  {
   "cell_type": "markdown",
   "metadata": {},
   "source": [
    "Adj. R-squared:                  0.896\n",
    "Skorygowane R-kwadrat jest miarą dopasowania modelu liniowego do danych, podobnie jak R-kwadrat, ale uwzględnia liczbę zmiennych objaśniających w modelu.\n",
    "Skorygowane R-kwadrat jest skorygowaną wersją R-kwadrat i uwzględnia liczbę zmiennych objaśniających w modelu oraz liczbę obserwacji. Im większa liczba zmiennych objaśniających, tym większa szansa na przeuczenie (overfitting) modelu i sztucznie wyższy R-kwadrat. Skorygowane R-kwadrat koryguje tę niedoskonałość poprzez penalizowanie złożoności modelu i jest bardziej odpowiednią miarą dopasowania modelu dla modeli z wieloma zmiennymi objaśniającymi.\n",
    "Skorygowane R-kwadrat przyjmuje wartości od 0 do 1 i interpretuje się go tak samo jak R-kwadrat - jako procent wariancji zmiennej objaśnianej, która jest wyjaśniona przez model. Wartość Skorygowanego R-kwadrat bliska 1 oznacza, że model dobrze wyjaśnia zmienność zmiennej objaśnianej, uwzględniając złożoność modelu.\n",
    "Wartość Skorygowanego R-kwadrat może być wyższa lub niższa niż R-kwadrat, w zależności od liczby zmiennych objaśniających w modelu i liczby obserwacji. Dlatego warto zawsze uwzględnić obie statystyki w analizie wyników."
   ]
  },
  {
   "cell_type": "markdown",
   "metadata": {},
   "source": [
    "Skorygowany współczynnik determinacji:\n",
    "\n",
    "$$\\overline{R}^2=1 - (1 - R^2) \\frac{n - 1}{n - p}$$"
   ]
  },
  {
   "cell_type": "code",
   "execution_count": 5,
   "metadata": {},
   "outputs": [
    {
     "name": "stdout",
     "output_type": "stream",
     "text": [
      "0.8956373316204685\n",
      "0.8956373316204668\n"
     ]
    }
   ],
   "source": [
    "ro2=1-((1-r2)*(199/196))\n",
    "print(ro2)\n",
    "print(res.rsquared_adj)"
   ]
  },
  {
   "cell_type": "markdown",
   "metadata": {},
   "source": [
    "F-test dla regresji wielowymiarowej\n",
    "\n",
    "$$H_0: \\qquad   \\beta_1 = \\beta_2 = \\ldots = \\beta_{p-1} = 0$$\n",
    "\n",
    "$$H_1: \\qquad  \\beta_j \\neq 0 \\ \\mathrm{dla \\ co \\ najmniej \\ jednego} \\ j.$$\n",
    "Wyliczamy statystykę:\n",
    "\n",
    "$$F=\\frac{MSM}{MSE} = \\frac{\\mathrm{\"wyjaśniona \\ wariancja\"}}{\\mathrm{\"niewyjaśniona \\ wariancja\"}} $$"
   ]
  },
  {
   "cell_type": "code",
   "execution_count": 6,
   "metadata": {},
   "outputs": [
    {
     "name": "stdout",
     "output_type": "stream",
     "text": [
      "6998.865821420864\n",
      "801.8283785791496\n",
      "7800.6942\n",
      "7800.6942000000145\n",
      "2332.9552738069547\n",
      "4.090961115199742\n",
      "39.199468341708545\n",
      "570.2707036590954\n",
      "570.2707036590942\n"
     ]
    }
   ],
   "source": [
    "ssm=np.sum((yh-ym)**2)\n",
    "print(ssm)\n",
    "ssr=np.sum((y-yh)**2)\n",
    "print(ssr)\n",
    "sst=np.sum((y-ym)**2)\n",
    "print(sst)\n",
    "print(ssm+ssr)\n",
    "msm=ssm/3\n",
    "print(msm)\n",
    "mse=ssr/196\n",
    "print(mse)\n",
    "mst=sst/199\n",
    "print(mst)\n",
    "fi=msm/mse\n",
    "print(fi)\n",
    "print(res.fvalue)"
   ]
  },
  {
   "cell_type": "markdown",
   "metadata": {},
   "source": [
    "Statystyka ta podlega rozkładowi F-Snedecora z $p-1$ i $n-p$ stopniami swobody. Ustalamy $\\alpha=0,05$."
   ]
  },
  {
   "cell_type": "code",
   "execution_count": 7,
   "metadata": {},
   "outputs": [
    {
     "name": "stdout",
     "output_type": "stream",
     "text": [
      "2.6506765101121412\n"
     ]
    }
   ],
   "source": [
    "print(f.ppf(0.95, 3, 196))"
   ]
  },
  {
   "cell_type": "markdown",
   "metadata": {},
   "source": [
    "Jeśli wartość statystyki jest większa kwantylowi, odrzucamy hipotezę zerową. W przeciwnym wypadku przyjmujemy hipotezę zerową.\n",
    "\n",
    "W naszym wypadku odrzucamy hipotezę zerową. Innymi słowy, odrzucamy hipotezę że wydatki na reklamy na poszczególne media nie mają wpływu na sprzedaż.\n",
    "\n",
    "Obliczmy wartość $p$:"
   ]
  },
  {
   "cell_type": "code",
   "execution_count": 8,
   "metadata": {},
   "outputs": [
    {
     "name": "stdout",
     "output_type": "stream",
     "text": [
      "1.5752272560922012e-96\n",
      "1.5752272560924532e-96\n"
     ]
    }
   ],
   "source": [
    "rv=f(3,196)\n",
    "print(rv.sf(fi))\n",
    "print(res.f_pvalue)"
   ]
  },
  {
   "cell_type": "markdown",
   "metadata": {},
   "source": [
    "W naszym wypadku jest to \"bliskie\" zeru, więc możemy przyjąć, że się zgadza.\n",
    "\n",
    "Jeśli $p\\leqslant \\alpha$ odrzucamy $H_0$ przyjmując $H_1$. W przeciwnym wypadku nie ma podstaw by odrzucić $H_0$."
   ]
  },
  {
   "cell_type": "markdown",
   "metadata": {},
   "source": []
  }
 ],
 "metadata": {
  "kernelspec": {
   "display_name": "Python 3 (ipykernel)",
   "language": "python",
   "name": "python3"
  },
  "language_info": {
   "codemirror_mode": {
    "name": "ipython",
    "version": 3
   },
   "file_extension": ".py",
   "mimetype": "text/x-python",
   "name": "python",
   "nbconvert_exporter": "python",
   "pygments_lexer": "ipython3",
   "version": "3.10.10"
  }
 },
 "nbformat": 4,
 "nbformat_minor": 1
}
